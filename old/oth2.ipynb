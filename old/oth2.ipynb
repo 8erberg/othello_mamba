{
 "cells": [
  {
   "cell_type": "code",
   "execution_count": 2,
   "metadata": {},
   "outputs": [],
   "source": [
    "EMPTY, BLACK, WHITE, OUTER = '.', '@', 'o', '?'\n",
    "PIECES = (EMPTY, BLACK, WHITE, OUTER)\n",
    "PLAYERS = {BLACK: 'Black', WHITE: 'White'}"
   ]
  },
  {
   "cell_type": "code",
   "execution_count": 3,
   "metadata": {},
   "outputs": [],
   "source": [
    "UP, DOWN, LEFT, RIGHT = -10, 10, -1, 1\n",
    "UP_RIGHT, DOWN_RIGHT, DOWN_LEFT, UP_LEFT = -9, 11, 9, -11\n",
    "DIRECTIONS = (UP, UP_RIGHT, RIGHT, DOWN_RIGHT, DOWN, DOWN_LEFT, LEFT, UP_LEFT)"
   ]
  },
  {
   "cell_type": "code",
   "execution_count": 4,
   "metadata": {},
   "outputs": [],
   "source": [
    "def squares():\n",
    "    return [i for i in range(11, 89) if 1 <= (i % 10) <= 8]"
   ]
  },
  {
   "cell_type": "code",
   "execution_count": 6,
   "metadata": {},
   "outputs": [],
   "source": [
    "def initial_board():\n",
    "    board = [OUTER] * 100\n",
    "    for i in squares():\n",
    "        board[i] = EMPTY\n",
    "\n",
    "    board[44], board[45] = WHITE, BLACK\n",
    "    board[54], board[55] = BLACK, WHITE\n",
    "    return board"
   ]
  },
  {
   "cell_type": "code",
   "execution_count": 10,
   "metadata": {},
   "outputs": [],
   "source": [
    "def print_board(board):\n",
    "    rep = ''\n",
    "    rep += '  %s\\n' % ' '.join(map(str, range(1, 9)))\n",
    "    for row in range(1, 9):\n",
    "        begin, end = 10*row + 1, 10*row + 9\n",
    "        rep += '%d %s\\n' % (row, ' '.join(board[begin:end]))\n",
    "    print(rep) #return rep"
   ]
  },
  {
   "cell_type": "code",
   "execution_count": 12,
   "metadata": {},
   "outputs": [
    {
     "name": "stdout",
     "output_type": "stream",
     "text": [
      "  1 2 3 4 5 6 7 8\n",
      "1 . . . . . . . .\n",
      "2 . . . . . . . .\n",
      "3 . . . . . . . .\n",
      "4 . . . o @ . . .\n",
      "5 . . . @ o . . .\n",
      "6 . . . . . . . .\n",
      "7 . . . . . . . .\n",
      "8 . . . . . . . .\n",
      "\n"
     ]
    }
   ],
   "source": [
    "print_board(initial_board())"
   ]
  },
  {
   "cell_type": "code",
   "execution_count": 13,
   "metadata": {},
   "outputs": [],
   "source": [
    "def is_valid(move):\n",
    "    \"\"\"\n",
    "    le move est-il bien dans le board ?\n",
    "    \"\"\"\n",
    "    return isinstance(move, int) and move in squares()"
   ]
  },
  {
   "cell_type": "code",
   "execution_count": 14,
   "metadata": {},
   "outputs": [],
   "source": [
    "def opponent(player):\n",
    "    return BLACK if player is WHITE else WHITE"
   ]
  },
  {
   "cell_type": "code",
   "execution_count": 15,
   "metadata": {},
   "outputs": [],
   "source": [
    "def find_bracket(square, player, board, direction):\n",
    "    bracket = square + direction\n",
    "    if board[bracket] == player:\n",
    "        return None\n",
    "    opp = opponent(player)\n",
    "    while board[bracket] == opp:\n",
    "        bracket += direction\n",
    "    return None if board[bracket] in (OUTER, EMPTY) else bracket"
   ]
  },
  {
   "cell_type": "code",
   "execution_count": 16,
   "metadata": {},
   "outputs": [],
   "source": [
    "def is_legal(move, player, board):\n",
    "    hasbracket = lambda direction: find_bracket(move, player, board, direction)\n",
    "    return board[move] == EMPTY and any(map(hasbracket, DIRECTIONS))"
   ]
  },
  {
   "cell_type": "code",
   "execution_count": 17,
   "metadata": {},
   "outputs": [],
   "source": [
    "def make_flips(move, player, board, direction):\n",
    "    bracket = find_bracket(move, player, board, direction)\n",
    "    if not bracket:\n",
    "        return\n",
    "    square = move + direction\n",
    "    while square != bracket:\n",
    "        board[square] = player\n",
    "        square += direction"
   ]
  },
  {
   "cell_type": "code",
   "execution_count": 18,
   "metadata": {},
   "outputs": [],
   "source": [
    "def make_move(move, player, board):\n",
    "    board[move] = player\n",
    "    for d in DIRECTIONS:\n",
    "        make_flips(move, player, board, d)\n",
    "    return board"
   ]
  },
  {
   "cell_type": "code",
   "execution_count": 19,
   "metadata": {},
   "outputs": [],
   "source": [
    "class IllegalMoveError(Exception):\n",
    "    def __init__(self, player, move, board):\n",
    "        self.player = player\n",
    "        self.move = move\n",
    "        self.board = board\n",
    "\n",
    "    def __str__(self):\n",
    "        return '%s cannot move to square %d' % (PLAYERS[self.player], self.move)\n",
    "\n",
    "    def legal_moves(player, board):\n",
    "        return [sq for sq in squares() if is_legal(sq, player, board)]\n",
    "\n",
    "    def any_legal_move(player, board):\n",
    "        return any(is_legal(sq, player, board) for sq in squares())"
   ]
  },
  {
   "cell_type": "code",
   "execution_count": null,
   "metadata": {},
   "outputs": [],
   "source": []
  }
 ],
 "metadata": {
  "kernelspec": {
   "display_name": "torch23",
   "language": "python",
   "name": "python3"
  },
  "language_info": {
   "codemirror_mode": {
    "name": "ipython",
    "version": 3
   },
   "file_extension": ".py",
   "mimetype": "text/x-python",
   "name": "python",
   "nbconvert_exporter": "python",
   "pygments_lexer": "ipython3",
   "version": "3.11.5"
  }
 },
 "nbformat": 4,
 "nbformat_minor": 2
}
