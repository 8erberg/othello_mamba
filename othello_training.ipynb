{
 "cells": [
  {
   "cell_type": "code",
   "execution_count": 1,
   "metadata": {},
   "outputs": [],
   "source": [
    "import math\n",
    "\n",
    "import torch\n",
    "import torch.nn.functional as F\n",
    "\n",
    "import matplotlib.pyplot as plt\n",
    "\n",
    "from models.lm import LM\n",
    "from models.transformer.transformer import TransformerConfig\n",
    "\n",
    "from data import OthelloDataset"
   ]
  },
  {
   "cell_type": "code",
   "execution_count": 2,
   "metadata": {},
   "outputs": [],
   "source": [
    "device = \"cuda\" if torch.cuda.is_available() else \"cpu\""
   ]
  },
  {
   "cell_type": "code",
   "execution_count": 18,
   "metadata": {},
   "outputs": [],
   "source": [
    "d_model = 512\n",
    "n_layers = 8\n",
    "n_heads = 8\n",
    "\n",
    "B = 64\n",
    "\n",
    "dropout = 0.\n",
    "bias = False\n",
    "\n",
    "lr = 5e-4 # todo : up BS and LR\n",
    "lr_min = 1e-5\n",
    "lr_warmup_iter = 100\n",
    "lr_decay_iter = 10000 # max_iters as in chinchilla\n",
    "\n",
    "adam_b1 = 0.9\n",
    "adam_b2 = 0.95\n",
    "\n",
    "clip_value_grad = 1.0\n",
    "weight_decay = 0.1"
   ]
  },
  {
   "cell_type": "code",
   "execution_count": 19,
   "metadata": {},
   "outputs": [],
   "source": [
    "ds = OthelloDataset()\n",
    "loader = torch.utils.data.DataLoader(ds, batch_size=B, num_workers=0, pin_memory=True)"
   ]
  },
  {
   "cell_type": "code",
   "execution_count": 20,
   "metadata": {},
   "outputs": [
    {
     "data": {
      "text/plain": [
       "33627136"
      ]
     },
     "execution_count": 20,
     "metadata": {},
     "output_type": "execute_result"
    }
   ],
   "source": [
    "config = TransformerConfig(d_model=d_model, n_layers=n_layers, n_heads=n_heads, dropout=dropout, bias=bias, max_len=60, flash=True)\n",
    "model = LM(config, vocab_size=65).to(device)\n",
    "optim = torch.optim.AdamW(model.parameters(), lr=lr, betas=(adam_b1, adam_b2), weight_decay=weight_decay)\n",
    "\n",
    "sum([p.numel() for p in model.parameters()])"
   ]
  },
  {
   "cell_type": "code",
   "execution_count": 21,
   "metadata": {},
   "outputs": [],
   "source": [
    "# cosine with warmup (taken from @karpathy)\n",
    "def get_lr(it):\n",
    "    if lr_decay_iter == 0:\n",
    "        return lr\n",
    "    \n",
    "    # 1) linear warmup for warmup_iters steps\n",
    "    if it < lr_warmup_iter:\n",
    "        return lr * it / lr_warmup_iter\n",
    "    # 2) if it > lr_decay_iters, return min learning rate\n",
    "    if it > lr_decay_iter:\n",
    "        return lr_min\n",
    "    # 3) in between, use cosine decay down to min learning rate\n",
    "    decay_ratio = (it - lr_warmup_iter) / (lr_decay_iter - lr_warmup_iter)\n",
    "    assert 0 <= decay_ratio <= 1\n",
    "    coeff = 0.5 * (1.0 + math.cos(math.pi * decay_ratio))  # coeff ranges 0..1\n",
    "    return lr_min + coeff * (lr - lr_min)"
   ]
  },
  {
   "cell_type": "code",
   "execution_count": 22,
   "metadata": {},
   "outputs": [],
   "source": [
    "losses = []\n",
    "scaler = torch.cuda.amp.GradScaler()"
   ]
  },
  {
   "cell_type": "code",
   "execution_count": 23,
   "metadata": {},
   "outputs": [],
   "source": [
    "for iter, data in enumerate(loader):\n",
    "    x, y = data\n",
    "    x, y = x+1, y+1 # todo : change dataset\n",
    "    x = x.int().to(device)\n",
    "    y = y.long().to(device)\n",
    "\n",
    "    with torch.autocast(device, torch.float16):\n",
    "        logits = model(x)\n",
    "        loss = F.cross_entropy(logits.view(-1, logits.size(-1)), y.view(-1), ignore_index=0) # todo : move loss ?\n",
    "\n",
    "    scaler.scale(loss).backward()\n",
    "    scaler.unscale_(optim)\n",
    "    torch.nn.utils.clip_grad_value_(model.parameters(), clip_value=clip_value_grad)\n",
    "    scaler.step(optim)\n",
    "    scaler.update()\n",
    "    optim.zero_grad()\n",
    "\n",
    "    # lr decay\n",
    "    lr_iter = get_lr(iter)\n",
    "    for param_group in optim.param_groups:\n",
    "        param_group['lr'] = lr_iter\n",
    "\n",
    "    losses.append(loss.item())\n",
    "\n",
    "    if iter >= 500:\n",
    "        break"
   ]
  },
  {
   "cell_type": "code",
   "execution_count": 24,
   "metadata": {},
   "outputs": [
    {
     "data": {
      "text/plain": [
       "[<matplotlib.lines.Line2D at 0x7f79cc610250>]"
      ]
     },
     "execution_count": 24,
     "metadata": {},
     "output_type": "execute_result"
    },
    {
     "data": {
      "image/png": "[encoded data removed]",
      "text/plain": [
       "<Figure size 640x480 with 1 Axes>"
      ]
     },
     "metadata": {},
     "output_type": "display_data"
    }
   ],
   "source": [
    "plt.plot(losses)"
   ]
  },
  {
   "cell_type": "code",
   "execution_count": 25,
   "metadata": {},
   "outputs": [
    {
     "data": {
      "text/plain": [
       "2.708470582962036"
      ]
     },
     "execution_count": 25,
     "metadata": {},
     "output_type": "execute_result"
    }
   ],
   "source": [
    "losses[-1]"
   ]
  },
  {
   "cell_type": "code",
   "execution_count": 26,
   "metadata": {},
   "outputs": [],
   "source": [
    "# evaluate move legality"
   ]
  },
  {
   "cell_type": "code",
   "execution_count": 27,
   "metadata": {},
   "outputs": [
    {
     "data": {
      "text/plain": [
       "LM(\n",
       "  (embedding): Embedding(65, 512, padding_idx=0)\n",
       "  (core): Transformer(\n",
       "    (PE): Embedding(60, 512)\n",
       "    (in_dropout): Dropout(p=0.0, inplace=False)\n",
       "    (layers): ModuleList(\n",
       "      (0-7): 8 x DecoderLayer(\n",
       "        (attention_norm): RMSNorm()\n",
       "        (sa): SelfAttentionMultiHead(\n",
       "          (query_proj): Linear(in_features=512, out_features=512, bias=False)\n",
       "          (key_proj): Linear(in_features=512, out_features=512, bias=False)\n",
       "          (value_proj): Linear(in_features=512, out_features=512, bias=False)\n",
       "          (c_proj): Linear(in_features=512, out_features=512, bias=False)\n",
       "          (attn_drop): Dropout(p=0.0, inplace=False)\n",
       "          (resid_dropout): Dropout(p=0.0, inplace=False)\n",
       "        )\n",
       "        (mlp_norm): RMSNorm()\n",
       "        (mlp): MLP(\n",
       "          (fc_1): Linear(in_features=512, out_features=2048, bias=False)\n",
       "          (fc_2): Linear(in_features=2048, out_features=512, bias=False)\n",
       "          (fc_3): Linear(in_features=512, out_features=2048, bias=False)\n",
       "          (dropout): Dropout(p=0.0, inplace=False)\n",
       "        )\n",
       "      )\n",
       "    )\n",
       "  )\n",
       "  (out_norm): RMSNorm()\n",
       "  (lm_head): Linear(in_features=512, out_features=65, bias=False)\n",
       ")"
      ]
     },
     "execution_count": 27,
     "metadata": {},
     "output_type": "execute_result"
    }
   ],
   "source": [
    "model.eval()"
   ]
  },
  {
   "cell_type": "code",
   "execution_count": 28,
   "metadata": {},
   "outputs": [],
   "source": [
    "import random\n",
    "from othello import OthelloGame"
   ]
  },
  {
   "cell_type": "code",
   "execution_count": 29,
   "metadata": {},
   "outputs": [],
   "source": [
    "ds_val = OthelloDataset(dir=\"data/val\")\n",
    "loader_val = torch.utils.data.DataLoader(ds_val, batch_size=1, num_workers=0, pin_memory=True)"
   ]
  },
  {
   "cell_type": "code",
   "execution_count": 30,
   "metadata": {},
   "outputs": [],
   "source": [
    "total_moves = 0\n",
    "total_legal_moves = 0\n",
    "\n",
    "for i, data in enumerate(loader_val):\n",
    "    game_transcript, _ = data # (1, lengame)\n",
    "    game_transcript = game_transcript.squeeze().int().to(device) # if sent to model : +1 and -1 after the pass\n",
    "\n",
    "    game_len = game_transcript.shape[0] # always 60-1=59 (padded)\n",
    "    game = OthelloGame()\n",
    "    game.play_move(game_transcript[0].item())\n",
    "    for pgame_len in range(1, game_len):\n",
    "        context = game_transcript[:pgame_len]\n",
    "\n",
    "        # get legal moves given current game board\n",
    "        legal_moves = game.get_valid_moves()\n",
    "        if legal_moves == []:\n",
    "            break\n",
    "        \n",
    "        # sample a move\n",
    "        x = (context+1)[None, ...] # (1, pgame_len)\n",
    "        logits = model(x)[:, -1, :] # (1, vocab_size)\n",
    "        probs = F.softmax(logits, dim=-1) # (1, vocab_size)\n",
    "        move = torch.multinomial(probs, num_samples=1).item()-1\n",
    "\n",
    "        if move in legal_moves:\n",
    "            total_legal_moves += 1\n",
    "        total_moves += 1\n",
    "\n",
    "        game.play_move(game_transcript[pgame_len].item())\n",
    "\n",
    "    if i >= 50:\n",
    "        break"
   ]
  },
  {
   "cell_type": "code",
   "execution_count": 31,
   "metadata": {},
   "outputs": [
    {
     "data": {
      "text/plain": [
       "'legal move accuracy : 61.25084976206662%'"
      ]
     },
     "execution_count": 31,
     "metadata": {},
     "output_type": "execute_result"
    }
   ],
   "source": [
    "f\"legal move accuracy : {100*total_legal_moves/total_moves}%\""
   ]
  },
  {
   "cell_type": "code",
   "execution_count": null,
   "metadata": {},
   "outputs": [],
   "source": []
  },
  {
   "cell_type": "code",
   "execution_count": null,
   "metadata": {},
   "outputs": [],
   "source": []
  },
  {
   "cell_type": "code",
   "execution_count": null,
   "metadata": {},
   "outputs": [],
   "source": []
  }
 ],
 "metadata": {
  "kernelspec": {
   "display_name": "torch23",
   "language": "python",
   "name": "python3"
  },
  "language_info": {
   "codemirror_mode": {
    "name": "ipython",
    "version": 3
   },
   "file_extension": ".py",
   "mimetype": "text/x-python",
   "name": "python",
   "nbconvert_exporter": "python",
   "pygments_lexer": "ipython3",
   "version": "3.11.5"
  }
 },
 "nbformat": 4,
 "nbformat_minor": 2
}
