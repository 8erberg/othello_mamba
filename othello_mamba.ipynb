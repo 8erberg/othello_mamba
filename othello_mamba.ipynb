{
 "cells": [
  {
   "cell_type": "code",
   "execution_count": null,
   "metadata": {},
   "outputs": [],
   "source": [
    "import math\n",
    "\n",
    "import torch\n",
    "import torch.nn.functional as F\n",
    "\n",
    "import matplotlib.pyplot as plt\n",
    "\n",
    "from models.lm import LM\n",
    "from models.mamba.mamba import MambaConfig\n",
    "\n",
    "from data import OthelloDataset\n",
    "\n",
    "from eval import eval"
   ]
  }
 ],
 "metadata": {
  "language_info": {
   "name": "python"
  }
 },
 "nbformat": 4,
 "nbformat_minor": 2
}
