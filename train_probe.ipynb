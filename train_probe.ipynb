{
 "cells": [
  {
   "cell_type": "code",
   "execution_count": 1,
   "metadata": {},
   "outputs": [],
   "source": [
    "import torch\n",
    "import torch.nn as nn\n",
    "import torch.nn.functional as F\n",
    "\n",
    "import matplotlib.pyplot as plt\n",
    "\n",
    "from data import ProbingDataset"
   ]
  },
  {
   "cell_type": "code",
   "execution_count": 2,
   "metadata": {},
   "outputs": [],
   "source": [
    "device = \"cuda\" if torch.cuda.is_available() else \"cpu\""
   ]
  },
  {
   "cell_type": "code",
   "execution_count": 3,
   "metadata": {},
   "outputs": [],
   "source": [
    "ds = ProbingDataset(dir_activations=\"data_probing/layer_7/\", dir_boards=\"data_probing/\")\n",
    "loader = torch.utils.data.DataLoader(ds, batch_size=256, num_workers=0, pin_memory=True)"
   ]
  },
  {
   "cell_type": "code",
   "execution_count": 4,
   "metadata": {},
   "outputs": [],
   "source": [
    "class MLP(nn.Module):\n",
    "    def __init__(self):\n",
    "        super().__init__()\n",
    "\n",
    "        self.fc = nn.Linear(512, 3*8*8, bias=True)\n",
    "\n",
    "    def forward(self, x):\n",
    "        # x : (B, 512)\n",
    "\n",
    "        # y : (B, 3*8*8)\n",
    "\n",
    "        return self.fc(x)"
   ]
  },
  {
   "cell_type": "code",
   "execution_count": 5,
   "metadata": {},
   "outputs": [
    {
     "name": "stderr",
     "output_type": "stream",
     "text": [
      "/home/alex/miniconda3/envs/torch23/lib/python3.11/site-packages/tqdm/auto.py:21: TqdmWarning: IProgress not found. Please update jupyter and ipywidgets. See https://ipywidgets.readthedocs.io/en/stable/user_install.html\n",
      "  from .autonotebook import tqdm as notebook_tqdm\n"
     ]
    }
   ],
   "source": [
    "probe = MLP().to(device)\n",
    "optim = torch.optim.AdamW(probe.parameters(), lr=1e-4, weight_decay=0.01, betas=(0.9, 0.99))"
   ]
  },
  {
   "cell_type": "code",
   "execution_count": 12,
   "metadata": {},
   "outputs": [],
   "source": [
    "losses = []"
   ]
  },
  {
   "cell_type": "code",
   "execution_count": 13,
   "metadata": {},
   "outputs": [
    {
     "name": "stdout",
     "output_type": "stream",
     "text": [
      "Step 0. train loss = 3.409633159637451\n",
      "Step 5000. train loss = 0.1725928783416748\n",
      "Step 10000. train loss = 0.1522727608680725\n",
      "Step 15000. train loss = 0.14101774990558624\n",
      "Step 20000. train loss = 0.14552803337574005\n"
     ]
    }
   ],
   "source": [
    "for i, data in enumerate(loader):\n",
    "    activations, boards = data\n",
    "    activations, boards = activations.to(device), boards.to(device)\n",
    "    boards = boards.long()\n",
    "\n",
    "    logits = probe(activations)\n",
    "\n",
    "    loss = F.cross_entropy(logits.view(-1, 3), boards.view(-1), ignore_index=-100)\n",
    "\n",
    "    optim.zero_grad()\n",
    "    loss.backward()\n",
    "    optim.step()\n",
    "\n",
    "    losses.append(loss.item())\n",
    "\n",
    "    if i%5000==0:\n",
    "        print(f\"Step {i}. train loss = {loss.item()}\")\n",
    "\n",
    "    if i >= 20000:\n",
    "        break"
   ]
  },
  {
   "cell_type": "code",
   "execution_count": 14,
   "metadata": {},
   "outputs": [
    {
     "data": {
      "text/plain": [
       "[<matplotlib.lines.Line2D at 0x7f35382d5a50>]"
      ]
     },
     "execution_count": 14,
     "metadata": {},
     "output_type": "execute_result"
    },
    {
     "data": {
      "image/png": "[encoded data removed]",
      "text/plain": [
       "<Figure size 640x480 with 1 Axes>"
      ]
     },
     "metadata": {},
     "output_type": "display_data"
    }
   ],
   "source": [
    "plt.plot(losses)"
   ]
  },
  {
   "cell_type": "code",
   "execution_count": 15,
   "metadata": {},
   "outputs": [],
   "source": [
    "# eval accuracy (on new data)"
   ]
  },
  {
   "cell_type": "code",
   "execution_count": 16,
   "metadata": {},
   "outputs": [],
   "source": [
    "from models.transformer.transformer import TransformerConfig\n",
    "from models.lm import LM"
   ]
  },
  {
   "cell_type": "code",
   "execution_count": 20,
   "metadata": {},
   "outputs": [
    {
     "name": "stdout",
     "output_type": "stream",
     "text": [
      "Successfully loaded model from runs/jumping-plant-20.pth.\n"
     ]
    },
    {
     "data": {
      "text/plain": [
       "LM(\n",
       "  (embedding): Embedding(65, 512, padding_idx=0)\n",
       "  (core): Transformer(\n",
       "    (PE): Embedding(60, 512)\n",
       "    (in_dropout): Dropout(p=0.0, inplace=False)\n",
       "    (layers): ModuleList(\n",
       "      (0-7): 8 x DecoderLayer(\n",
       "        (attention_norm): RMSNorm()\n",
       "        (sa): SelfAttentionMultiHead(\n",
       "          (query_proj): Linear(in_features=512, out_features=512, bias=False)\n",
       "          (key_proj): Linear(in_features=512, out_features=512, bias=False)\n",
       "          (value_proj): Linear(in_features=512, out_features=512, bias=False)\n",
       "          (c_proj): Linear(in_features=512, out_features=512, bias=False)\n",
       "          (attn_drop): Dropout(p=0.0, inplace=False)\n",
       "          (resid_dropout): Dropout(p=0.0, inplace=False)\n",
       "        )\n",
       "        (mlp_norm): RMSNorm()\n",
       "        (mlp): MLP(\n",
       "          (fc_1): Linear(in_features=512, out_features=2048, bias=False)\n",
       "          (fc_2): Linear(in_features=2048, out_features=512, bias=False)\n",
       "          (fc_3): Linear(in_features=512, out_features=2048, bias=False)\n",
       "          (dropout): Dropout(p=0.0, inplace=False)\n",
       "        )\n",
       "      )\n",
       "    )\n",
       "  )\n",
       "  (out_norm): RMSNorm()\n",
       "  (lm_head): Linear(in_features=512, out_features=65, bias=False)\n",
       ")"
      ]
     },
     "execution_count": 20,
     "metadata": {},
     "output_type": "execute_result"
    }
   ],
   "source": [
    "# todo : load from a (future) config file\n",
    "d_model = 512\n",
    "n_layers = 8\n",
    "n_heads = 8\n",
    "\n",
    "dropout = 0.\n",
    "bias = False\n",
    "# todo : load from a (future) config file\n",
    "\n",
    "# -------------------------------------------------------\n",
    "\n",
    "config = TransformerConfig(d_model=d_model, n_layers=n_layers, n_heads=n_heads, dropout=dropout, bias=bias, max_len=60, flash=True)\n",
    "model = LM(config, vocab_size=65).to(device)\n",
    "\n",
    "checkpoint = torch.load(\"runs/jumping-plant-20.pth\", map_location=device)\n",
    "model.load_state_dict({key.replace('_orig_mod.', ''): value for key, value in checkpoint['model'].items()}) # todo : plus besoin si unoptimized model stored\n",
    "print(f\"Successfully loaded model from runs/jumping-plant-20.pth.\")\n",
    "\n",
    "model.eval()"
   ]
  },
  {
   "cell_type": "code",
   "execution_count": 21,
   "metadata": {},
   "outputs": [],
   "source": [
    "from othello import OthelloGame\n",
    "import random"
   ]
  },
  {
   "cell_type": "code",
   "execution_count": 22,
   "metadata": {},
   "outputs": [
    {
     "name": "stdout",
     "output_type": "stream",
     "text": [
      "94.40%\n",
      "7.58%\n"
     ]
    }
   ],
   "source": [
    "n_games = 100\n",
    "\n",
    "cell_acc = 0\n",
    "board_acc = 0\n",
    "\n",
    "for _ in range(n_games): # 100 = num_games\n",
    "    moves = []\n",
    "    boards = []\n",
    "\n",
    "    game = OthelloGame()\n",
    "    for t in range(60):\n",
    "        legal_moves = game.get_valid_moves()\n",
    "        if legal_moves == []:\n",
    "            break\n",
    "\n",
    "        move = random.choice(legal_moves)\n",
    "        game.play_move(move)\n",
    "\n",
    "        moves.append(move)\n",
    "        \n",
    "        board = torch.from_numpy(game.state.copy()).flatten()\n",
    "        if game.next_hand_color == -1:\n",
    "            board[board == 1] = 2\n",
    "            board[board == -1] = 1\n",
    "        else:\n",
    "            board[board == -1] = 2\n",
    "        boards.append(board)\n",
    "\n",
    "    x = torch.tensor(moves)+1\n",
    "    x = x.to(device).unsqueeze(0)\n",
    "    activations = model.forward_up_to(x, 7) # (B=1, 59, d_model)\n",
    "\n",
    "    preds = torch.argmax(probe(activations).view(-1, 64, 3), dim=-1)[5:-4, :]\n",
    "    boards = torch.cat(boards).to(device).view(-1, 64)[5:-4, :]\n",
    "\n",
    "    cell_acc += torch.mean((boards == preds).float()).item() # mean cell accuracy\n",
    "    board_acc += torch.mean((boards == preds).all(dim=1).float()).item() # mean board accuracy\n",
    "\n",
    "cell_acc /= n_games\n",
    "board_acc /= n_games\n",
    "\n",
    "print(f\"{100*cell_acc:.2f}%\")\n",
    "print(f\"{100*board_acc:.2f}%\")"
   ]
  },
  {
   "cell_type": "code",
   "execution_count": 31,
   "metadata": {},
   "outputs": [],
   "source": [
    "# eval accuracy on training data"
   ]
  },
  {
   "cell_type": "code",
   "execution_count": 33,
   "metadata": {},
   "outputs": [
    {
     "name": "stdout",
     "output_type": "stream",
     "text": [
      "94.4580078125\n",
      "10.546875\n"
     ]
    }
   ],
   "source": [
    "activations, boards = next(iter(loader))\n",
    "activations, boards = activations.to(device), boards.to(device)\n",
    "\n",
    "# mean cell accuracy\n",
    "cell_acc = torch.mean((boards == torch.argmax(probe(activations).view(-1, 64, 3), dim=-1)).float()).item()\n",
    "print(100*cell_acc)\n",
    "\n",
    "# mean board accuracy\n",
    "board_acc = torch.mean((boards == torch.argmax(probe(activations).view(-1, 64, 3), dim=-1)).all(dim=1).float()).item()\n",
    "print(100*board_acc)"
   ]
  },
  {
   "cell_type": "code",
   "execution_count": null,
   "metadata": {},
   "outputs": [],
   "source": []
  },
  {
   "cell_type": "code",
   "execution_count": null,
   "metadata": {},
   "outputs": [],
   "source": []
  },
  {
   "cell_type": "code",
   "execution_count": 1,
   "metadata": {},
   "outputs": [],
   "source": [
    "import torch"
   ]
  },
  {
   "cell_type": "code",
   "execution_count": 7,
   "metadata": {},
   "outputs": [],
   "source": [
    "A = torch.tensor([[[6, 1], [4, 5], [2, 8]], [[1, 2], [3, 4], [5, 6]]])"
   ]
  },
  {
   "cell_type": "code",
   "execution_count": 8,
   "metadata": {},
   "outputs": [
    {
     "data": {
      "text/plain": [
       "tensor([[[6, 1],\n",
       "         [4, 5],\n",
       "         [2, 8]],\n",
       "\n",
       "        [[1, 2],\n",
       "         [3, 4],\n",
       "         [5, 6]]])"
      ]
     },
     "execution_count": 8,
     "metadata": {},
     "output_type": "execute_result"
    }
   ],
   "source": [
    "A"
   ]
  },
  {
   "cell_type": "code",
   "execution_count": 9,
   "metadata": {},
   "outputs": [
    {
     "data": {
      "text/plain": [
       " 6\n",
       " 1\n",
       " 4\n",
       " 5\n",
       " 2\n",
       " 8\n",
       " 1\n",
       " 2\n",
       " 3\n",
       " 4\n",
       " 5\n",
       " 6\n",
       "[torch.storage.TypedStorage(dtype=torch.int64, device=cpu) of size 12]"
      ]
     },
     "execution_count": 9,
     "metadata": {},
     "output_type": "execute_result"
    }
   ],
   "source": [
    "A.storage()"
   ]
  },
  {
   "cell_type": "code",
   "execution_count": 5,
   "metadata": {},
   "outputs": [
    {
     "data": {
      "text/plain": [
       "torch.Size([3, 2])"
      ]
     },
     "execution_count": 5,
     "metadata": {},
     "output_type": "execute_result"
    }
   ],
   "source": [
    "A.size()"
   ]
  },
  {
   "cell_type": "code",
   "execution_count": 6,
   "metadata": {},
   "outputs": [
    {
     "data": {
      "text/plain": [
       "(2, 1)"
      ]
     },
     "execution_count": 6,
     "metadata": {},
     "output_type": "execute_result"
    }
   ],
   "source": [
    "A.stride()"
   ]
  },
  {
   "cell_type": "code",
   "execution_count": 10,
   "metadata": {},
   "outputs": [],
   "source": [
    "A = torch.tensor([[6, 1], [4, 5], [2, 8]])"
   ]
  },
  {
   "cell_type": "code",
   "execution_count": 11,
   "metadata": {},
   "outputs": [],
   "source": [
    "B = A.T"
   ]
  },
  {
   "cell_type": "code",
   "execution_count": 12,
   "metadata": {},
   "outputs": [
    {
     "data": {
      "text/plain": [
       "tensor([[6, 4, 2],\n",
       "        [1, 5, 8]])"
      ]
     },
     "execution_count": 12,
     "metadata": {},
     "output_type": "execute_result"
    }
   ],
   "source": [
    "B"
   ]
  },
  {
   "cell_type": "code",
   "execution_count": 17,
   "metadata": {},
   "outputs": [
    {
     "data": {
      "text/plain": [
       "40059520"
      ]
     },
     "execution_count": 17,
     "metadata": {},
     "output_type": "execute_result"
    }
   ],
   "source": [
    "B.data_ptr()"
   ]
  },
  {
   "cell_type": "code",
   "execution_count": 18,
   "metadata": {},
   "outputs": [
    {
     "data": {
      "text/plain": [
       "40059520"
      ]
     },
     "execution_count": 18,
     "metadata": {},
     "output_type": "execute_result"
    }
   ],
   "source": [
    "A.data_ptr()"
   ]
  },
  {
   "cell_type": "code",
   "execution_count": null,
   "metadata": {},
   "outputs": [],
   "source": []
  },
  {
   "cell_type": "code",
   "execution_count": 20,
   "metadata": {},
   "outputs": [],
   "source": [
    "A_10 = torch.ones(10, 10)\n",
    "A_10000 = torch.ones(10000, 10000)"
   ]
  },
  {
   "cell_type": "code",
   "execution_count": 23,
   "metadata": {},
   "outputs": [
    {
     "name": "stdout",
     "output_type": "stream",
     "text": [
      "937 ns ± 14.8 ns per loop (mean ± std. dev. of 7 runs, 1,000,000 loops each)\n"
     ]
    }
   ],
   "source": [
    "%timeit A_10.T"
   ]
  },
  {
   "cell_type": "code",
   "execution_count": 22,
   "metadata": {},
   "outputs": [
    {
     "name": "stdout",
     "output_type": "stream",
     "text": [
      "928 ns ± 23.3 ns per loop (mean ± std. dev. of 7 runs, 1,000,000 loops each)\n"
     ]
    }
   ],
   "source": [
    "%timeit A_10000.T"
   ]
  },
  {
   "cell_type": "code",
   "execution_count": 29,
   "metadata": {},
   "outputs": [
    {
     "data": {
      "text/plain": [
       "0"
      ]
     },
     "execution_count": 29,
     "metadata": {},
     "output_type": "execute_result"
    }
   ],
   "source": [
    "A.storage_offset()"
   ]
  },
  {
   "cell_type": "code",
   "execution_count": 33,
   "metadata": {},
   "outputs": [
    {
     "data": {
      "text/plain": [
       "(1,)"
      ]
     },
     "execution_count": 33,
     "metadata": {},
     "output_type": "execute_result"
    }
   ],
   "source": [
    "A.view(-1).stride()"
   ]
  },
  {
   "cell_type": "code",
   "execution_count": 35,
   "metadata": {},
   "outputs": [
    {
     "data": {
      "text/plain": [
       "(torch.Size([2, 3, 2]), (6, 2, 1))"
      ]
     },
     "execution_count": 35,
     "metadata": {},
     "output_type": "execute_result"
    }
   ],
   "source": [
    "A = torch.tensor([[[6, 1], [4, 5], [2, 8]], [[1, 2], [3, 4], [5, 6]]])\n",
    "A.size(), A.stride()"
   ]
  },
  {
   "cell_type": "code",
   "execution_count": 37,
   "metadata": {},
   "outputs": [
    {
     "data": {
      "text/plain": [
       "(2, 1)"
      ]
     },
     "execution_count": 37,
     "metadata": {},
     "output_type": "execute_result"
    }
   ],
   "source": [
    "A.view(6, 2).stride()"
   ]
  },
  {
   "cell_type": "code",
   "execution_count": 41,
   "metadata": {},
   "outputs": [
    {
     "data": {
      "text/plain": [
       "(126, 18, 6, 6, 3, 1)"
      ]
     },
     "execution_count": 41,
     "metadata": {},
     "output_type": "execute_result"
    }
   ],
   "source": [
    "torch.ones(5, 7, 3, 1, 2, 3).stride()"
   ]
  },
  {
   "cell_type": "code",
   "execution_count": 42,
   "metadata": {},
   "outputs": [],
   "source": [
    "A = torch.ones(2, 2)"
   ]
  },
  {
   "cell_type": "code",
   "execution_count": 46,
   "metadata": {},
   "outputs": [],
   "source": [
    "B = A.T.T"
   ]
  },
  {
   "cell_type": "code",
   "execution_count": 45,
   "metadata": {},
   "outputs": [
    {
     "data": {
      "text/plain": [
       "tensor([[0.8415, 0.8415],\n",
       "        [0.8415, 0.8415]])"
      ]
     },
     "execution_count": 45,
     "metadata": {},
     "output_type": "execute_result"
    }
   ],
   "source": [
    "B.sin()"
   ]
  },
  {
   "cell_type": "code",
   "execution_count": 3,
   "metadata": {},
   "outputs": [],
   "source": [
    "tt = \"zz\""
   ]
  },
  {
   "cell_type": "code",
   "execution_count": 4,
   "metadata": {},
   "outputs": [
    {
     "name": "stdout",
     "output_type": "stream",
     "text": [
      "ded\n"
     ]
    }
   ],
   "source": [
    "if tt:\n",
    "    print(\"ded\")"
   ]
  },
  {
   "cell_type": "code",
   "execution_count": null,
   "metadata": {},
   "outputs": [],
   "source": []
  }
 ],
 "metadata": {
  "kernelspec": {
   "display_name": "torch23",
   "language": "python",
   "name": "python3"
  },
  "language_info": {
   "codemirror_mode": {
    "name": "ipython",
    "version": 3
   },
   "file_extension": ".py",
   "mimetype": "text/x-python",
   "name": "python",
   "nbconvert_exporter": "python",
   "pygments_lexer": "ipython3",
   "version": "3.11.5"
  }
 },
 "nbformat": 4,
 "nbformat_minor": 2
}
