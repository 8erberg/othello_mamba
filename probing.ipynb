{
 "cells": [
  {
   "cell_type": "code",
   "execution_count": 1,
   "metadata": {},
   "outputs": [],
   "source": [
    "import os\n",
    "\n",
    "import math\n",
    "import numpy as np\n",
    "import torch\n",
    "\n",
    "from models.transformer.transformer import TransformerConfig\n",
    "from models.lm import LM\n",
    "from data import OthelloDataset"
   ]
  },
  {
   "cell_type": "code",
   "execution_count": 2,
   "metadata": {},
   "outputs": [],
   "source": [
    "device = \"cuda\" if torch.cuda.is_available() else \"cpu\""
   ]
  },
  {
   "cell_type": "code",
   "execution_count": 3,
   "metadata": {},
   "outputs": [],
   "source": [
    "d_model = 512\n",
    "n_layers = 8\n",
    "n_heads = 8\n",
    "\n",
    "dropout = 0.\n",
    "bias = False\n",
    "\n",
    "total_games = 1000\n",
    "batch_size = 128\n",
    "\n",
    "save_dir = \"data_probing/\""
   ]
  },
  {
   "cell_type": "code",
   "execution_count": 4,
   "metadata": {},
   "outputs": [],
   "source": [
    "config = TransformerConfig(d_model=d_model, n_layers=n_layers, n_heads=n_heads, dropout=dropout, bias=bias, max_len=60, flash=True)\n",
    "model = LM(config, vocab_size=65).to(device)"
   ]
  },
  {
   "cell_type": "code",
   "execution_count": 5,
   "metadata": {},
   "outputs": [],
   "source": [
    "ds_val = OthelloDataset(\"data/val\", seed=47)\n",
    "loader_val = torch.utils.data.DataLoader(ds_val, batch_size=batch_size, num_workers=0, pin_memory=True)"
   ]
  },
  {
   "cell_type": "code",
   "execution_count": 6,
   "metadata": {},
   "outputs": [
    {
     "name": "stdout",
     "output_type": "stream",
     "text": [
      "Number of files : 8\n",
      "Size of each file: 15.5 MB\n",
      "Size of activations dataset : 123.7 MB\n"
     ]
    }
   ],
   "source": [
    "print(f\"Number of files : {math.ceil(total_games/batch_size)}\")\n",
    "print(f\"Size of each file: {4*batch_size*59*config.d_model/1e6:.1f} MB\")\n",
    "print(f\"Size of activations dataset : {math.ceil(total_games/batch_size)*4*batch_size*59*config.d_model/1e6:.1f} MB\")"
   ]
  },
  {
   "cell_type": "code",
   "execution_count": 7,
   "metadata": {},
   "outputs": [],
   "source": [
    "layer = 7\n",
    "save_dir_activations = os.path.join(save_dir, f\"layer_{layer}\")\n",
    "os.makedirs(save_dir_activations, exist_ok=True)"
   ]
  },
  {
   "cell_type": "code",
   "execution_count": 8,
   "metadata": {},
   "outputs": [],
   "source": [
    "num_games = 0\n",
    "for i, data in enumerate(loader_val):\n",
    "    x, _ = data # (B, 59)\n",
    "    x = x.to(device)\n",
    "\n",
    "    \n",
    "    activations = model.forward_up_to(x, layer).detach().cpu().numpy() # (B, 59, d_model)\n",
    "    np.save(os.path.join(save_dir_activations, f\"batch_{i+1}_activations.npy\"), activations)\n",
    "\n",
    "    num_games += batch_size\n",
    "    if num_games >= total_games:\n",
    "        break"
   ]
  },
  {
   "cell_type": "code",
   "execution_count": null,
   "metadata": {},
   "outputs": [],
   "source": []
  },
  {
   "cell_type": "code",
   "execution_count": null,
   "metadata": {},
   "outputs": [],
   "source": []
  },
  {
   "cell_type": "code",
   "execution_count": null,
   "metadata": {},
   "outputs": [],
   "source": []
  },
  {
   "cell_type": "code",
   "execution_count": 9,
   "metadata": {},
   "outputs": [],
   "source": [
    "from othello import OthelloGame"
   ]
  },
  {
   "cell_type": "code",
   "execution_count": 10,
   "metadata": {},
   "outputs": [
    {
     "name": "stdout",
     "output_type": "stream",
     "text": [
      "Number of files : 8\n",
      "Size of each file: 1.9 MB\n",
      "Size of boards dataset : 15.5 MB\n"
     ]
    }
   ],
   "source": [
    "print(f\"Number of files : {math.ceil(total_games/batch_size)}\")\n",
    "print(f\"Size of each file: {4*batch_size*59*64/1e6:.1f} MB\")\n",
    "print(f\"Size of boards dataset : {math.ceil(total_games/batch_size)*4*batch_size*59*64/1e6:.1f} MB\")"
   ]
  },
  {
   "cell_type": "code",
   "execution_count": 11,
   "metadata": {},
   "outputs": [],
   "source": [
    "num_games = 0\n",
    "for i, data in enumerate(loader_val):\n",
    "    x, _ = data # (B, 59)\n",
    "    x = x.to(device)\n",
    "\n",
    "    # create tensor to be saved\n",
    "    boards = np.zeros((batch_size, 59, 8*8), dtype=np.int32)\n",
    "\n",
    "    for k in range(batch_size):\n",
    "        game_transcript = x[k] # (59)\n",
    "\n",
    "        game = OthelloGame()\n",
    "        for t in range(0, 59):\n",
    "            move = game_transcript[t].item() - 1\n",
    "            if move == -1:\n",
    "                print(\"ee\")\n",
    "                boards[k, t] = -100 * np.ones((8*8,), dtype=np.int32)\n",
    "            else:\n",
    "                game.play_move(game_transcript[t].item() - 1)\n",
    "                boards[k, t] = np.copy(game.state).flatten()\n",
    "\n",
    "    # save tensor\n",
    "    np.save(os.path.join(\"data_probing/\", f\"batch_{i+1}_boards.npy\"), boards)\n",
    "\n",
    "    num_games += batch_size\n",
    "    if num_games >= total_games:\n",
    "        break"
   ]
  },
  {
   "cell_type": "code",
   "execution_count": null,
   "metadata": {},
   "outputs": [],
   "source": []
  }
 ],
 "metadata": {
  "kernelspec": {
   "display_name": "torch23",
   "language": "python",
   "name": "python3"
  },
  "language_info": {
   "codemirror_mode": {
    "name": "ipython",
    "version": 3
   },
   "file_extension": ".py",
   "mimetype": "text/x-python",
   "name": "python",
   "nbconvert_exporter": "python",
   "pygments_lexer": "ipython3",
   "version": "3.11.5"
  }
 },
 "nbformat": 4,
 "nbformat_minor": 2
}
