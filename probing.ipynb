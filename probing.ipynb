{
 "cells": [
  {
   "cell_type": "code",
   "execution_count": 72,
   "metadata": {},
   "outputs": [],
   "source": [
    "import math\n",
    "import numpy as np\n",
    "import torch\n",
    "\n",
    "from models.transformer.transformer import TransformerConfig\n",
    "from models.lm import LM\n",
    "from data import OthelloDataset"
   ]
  },
  {
   "cell_type": "code",
   "execution_count": 6,
   "metadata": {},
   "outputs": [],
   "source": [
    "device = \"cuda\" if torch.cuda.is_available() else \"cpu\""
   ]
  },
  {
   "cell_type": "code",
   "execution_count": 39,
   "metadata": {},
   "outputs": [],
   "source": [
    "d_model = 512\n",
    "n_layers = 8\n",
    "n_heads = 8\n",
    "\n",
    "batch_size = 128\n",
    "\n",
    "dropout = 0.\n",
    "bias = False"
   ]
  },
  {
   "cell_type": "code",
   "execution_count": 40,
   "metadata": {},
   "outputs": [],
   "source": [
    "config = TransformerConfig(d_model=d_model, n_layers=n_layers, n_heads=n_heads, dropout=dropout, bias=bias, max_len=60, flash=True)\n",
    "model = LM(config, vocab_size=65).to(device)"
   ]
  },
  {
   "cell_type": "code",
   "execution_count": 41,
   "metadata": {},
   "outputs": [],
   "source": [
    "ds_val = OthelloDataset(\"data/val\", seed=47)\n",
    "loader_val = torch.utils.data.DataLoader(ds_val, batch_size=batch_size, num_workers=0, pin_memory=True)"
   ]
  },
  {
   "cell_type": "code",
   "execution_count": 70,
   "metadata": {},
   "outputs": [],
   "source": [
    "total_games = 257"
   ]
  },
  {
   "cell_type": "code",
   "execution_count": 71,
   "metadata": {},
   "outputs": [
    {
     "name": "stdout",
     "output_type": "stream",
     "text": [
      "Number of files : 3\n",
      "Size of each file: 13.1 MB\n",
      "Size of total activations dataset : 39.3 MB\n"
     ]
    }
   ],
   "source": [
    "print(f\"Number of files : {math.ceil(total_games/batch_size)}\")\n",
    "print(f\"Size of each file: {4*batch_size*50*config.d_model/1e6:.1f} MB\")\n",
    "print(f\"Size of total activations dataset : {math.ceil(total_games/batch_size)*4*batch_size*50*config.d_model/1e6:.1f} MB\")"
   ]
  },
  {
   "cell_type": "code",
   "execution_count": null,
   "metadata": {},
   "outputs": [],
   "source": [
    "save_dir = \"data_probing/layer_7/\""
   ]
  },
  {
   "cell_type": "code",
   "execution_count": 43,
   "metadata": {},
   "outputs": [
    {
     "name": "stdout",
     "output_type": "stream",
     "text": [
      "13.1072\n"
     ]
    }
   ],
   "source": [
    "num_games = 0\n",
    "for i, data in enumerate(loader_val):\n",
    "    x, _ = data # (B, 59)\n",
    "    x = x.to(device)\n",
    "\n",
    "    x = x[:, 5:-4] # (B, 50)\n",
    "\n",
    "    forward = model.forward_up_to(x, 7).detach().cpu().numpy() # (B, 50, d_model)\n",
    "    np.save()\n",
    "\n",
    "\n",
    "    num_games += batch_size\n",
    "    if num_games >= total_games:\n",
    "        break"
   ]
  },
  {
   "cell_type": "code",
   "execution_count": null,
   "metadata": {},
   "outputs": [],
   "source": []
  },
  {
   "cell_type": "code",
   "execution_count": null,
   "metadata": {},
   "outputs": [],
   "source": []
  }
 ],
 "metadata": {
  "kernelspec": {
   "display_name": "torch23",
   "language": "python",
   "name": "python3"
  },
  "language_info": {
   "codemirror_mode": {
    "name": "ipython",
    "version": 3
   },
   "file_extension": ".py",
   "mimetype": "text/x-python",
   "name": "python",
   "nbconvert_exporter": "python",
   "pygments_lexer": "ipython3",
   "version": "3.11.5"
  }
 },
 "nbformat": 4,
 "nbformat_minor": 2
}
