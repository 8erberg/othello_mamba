{
 "cells": [
  {
   "cell_type": "code",
   "execution_count": 1,
   "metadata": {},
   "outputs": [],
   "source": [
    "import os\n",
    "import json\n",
    "import random\n",
    "\n",
    "import matplotlib.pyplot as plt\n",
    "import seaborn as sns\n",
    "import matplotlib.cm as cm\n",
    "\n",
    "import torch\n",
    "import torch.nn as nn\n",
    "import torch.nn.functional as F\n",
    "\n",
    "from othello import OthelloGame\n",
    "from models.transformer.transformer import TransformerConfig\n",
    "from models.mamba.mamba import MambaConfig\n",
    "from models.lm import LM\n",
    "from eval import eval_probe_accuracy"
   ]
  },
  {
   "cell_type": "code",
   "execution_count": 2,
   "metadata": {},
   "outputs": [],
   "source": [
    "layer = 12\n",
    "load_dir = \"runs/stoic-lion-30/\"\n",
    "\n",
    "device = \"cuda\""
   ]
  },
  {
   "cell_type": "code",
   "execution_count": 3,
   "metadata": {},
   "outputs": [
    {
     "name": "stdout",
     "output_type": "stream",
     "text": [
      "Successfully loaded checkpoint from runs/stoic-lion-30/.\n"
     ]
    },
    {
     "data": {
      "text/plain": [
       "LM(\n",
       "  (embedding): Embedding(65, 408, padding_idx=0)\n",
       "  (core): Mamba(\n",
       "    (layers): ModuleList(\n",
       "      (0-15): 16 x ResidualBlock(\n",
       "        (mixer): MambaBlock(\n",
       "          (in_proj): Linear(in_features=408, out_features=1632, bias=False)\n",
       "          (conv1d): Conv1d(816, 816, kernel_size=(4,), stride=(1,), padding=(3,), groups=816)\n",
       "          (x_proj): Linear(in_features=816, out_features=58, bias=False)\n",
       "          (dt_proj): Linear(in_features=26, out_features=816, bias=True)\n",
       "          (out_proj): Linear(in_features=816, out_features=408, bias=False)\n",
       "        )\n",
       "        (norm): RMSNorm()\n",
       "      )\n",
       "    )\n",
       "  )\n",
       "  (out_norm): RMSNorm()\n",
       "  (lm_head): Linear(in_features=408, out_features=65, bias=False)\n",
       ")"
      ]
     },
     "execution_count": 3,
     "metadata": {},
     "output_type": "execute_result"
    }
   ],
   "source": [
    "config_dir = os.path.join(load_dir, 'config.json')\n",
    "checkpoint_dir = os.path.join(load_dir, 'model.pth')\n",
    "\n",
    "config_json = json.load(open(config_dir))\n",
    "architecture = config_json['architecture']\n",
    "del config_json['architecture']\n",
    "\n",
    "if architecture == \"Transformer\": \n",
    "    config = TransformerConfig(**config_json)\n",
    "elif architecture == \"Mamba\":\n",
    "    config = MambaConfig(**config_json)\n",
    "else:\n",
    "    raise NotImplementedError\n",
    "\n",
    "model = LM(config, vocab_size=65).to(device)\n",
    "\n",
    "checkpoint = torch.load(checkpoint_dir, map_location=device)\n",
    "model.load_state_dict(checkpoint['model'])\n",
    "print(f\"Successfully loaded checkpoint from {load_dir}.\")\n",
    "model.eval()"
   ]
  },
  {
   "cell_type": "code",
   "execution_count": 4,
   "metadata": {},
   "outputs": [
    {
     "data": {
      "text/plain": [
       "<All keys matched successfully>"
      ]
     },
     "execution_count": 4,
     "metadata": {},
     "output_type": "execute_result"
    }
   ],
   "source": [
    "class Probe(nn.Module):\n",
    "    def __init__(self, d_model: int):\n",
    "        super().__init__()\n",
    "        \n",
    "        self.fc = nn.Linear(d_model, 3*8*8, bias=True)\n",
    "        # 3 = number of cell types (empty=0, yours=1, mine=2)\n",
    "        # 8*8 = board size\n",
    "\n",
    "    def forward(self, x):\n",
    "        # x : (B, 512) -> y : (B, 3*8*8)\n",
    "        return self.fc(x)\n",
    "    \n",
    "probe = Probe(config.d_model).to(device)\n",
    "checkpoint = torch.load(os.path.join(load_dir, f\"probe_{layer}.pth\"), map_location=device)\n",
    "probe.load_state_dict(checkpoint['probe'])"
   ]
  },
  {
   "cell_type": "code",
   "execution_count": 7,
   "metadata": {},
   "outputs": [
    {
     "data": {
      "text/plain": [
       "(0.9853496193885803, 0.7012429773807526)"
      ]
     },
     "execution_count": 7,
     "metadata": {},
     "output_type": "execute_result"
    }
   ],
   "source": [
    "eval_probe_accuracy(model, probe, layer, device, 10) # check results"
   ]
  },
  {
   "cell_type": "code",
   "execution_count": 8,
   "metadata": {},
   "outputs": [],
   "source": [
    "n_games = 500\n",
    "\n",
    "board_accuracies = torch.zeros(64) # every board accuracy (one per timestep)\n",
    "\n",
    "for _ in range(n_games):\n",
    "    moves = []\n",
    "    boards = []\n",
    "\n",
    "    game = OthelloGame()\n",
    "    for _ in range(60):\n",
    "        legal_moves = game.get_valid_moves()\n",
    "        if legal_moves == []:\n",
    "            break\n",
    "\n",
    "        move = random.choice(legal_moves)\n",
    "        game.play_move(move)\n",
    "        moves.append(move)\n",
    "            \n",
    "        board = torch.from_numpy(game.state.copy()).flatten()\n",
    "        if game.next_hand_color == -1:\n",
    "            board[board == 1] = 2\n",
    "            board[board == -1] = 1\n",
    "        else:\n",
    "            board[board == -1] = 2\n",
    "        boards.append(board)\n",
    "\n",
    "    x = torch.tensor(moves)+1\n",
    "    x = x.to(device).unsqueeze(0)\n",
    "    activations = model.forward_up_to(x, layer) # (B=1, lengame, d_model)\n",
    "\n",
    "    preds = torch.argmax(probe(activations).view(-1, 64, 3), dim=-1)\n",
    "    boards = torch.cat(boards).to(device).view(-1, 64)\n",
    "\n",
    "    # preds and boards are (lengame, 64)\n",
    "    acc = torch.all(torch.eq(preds, boards), dim=1).float() # (lengame)\n",
    "\n",
    "    len_game = acc.shape[0]\n",
    "    board_accuracies[:len_game] += acc.cpu()\n",
    "\n",
    "board_accuracies /= n_games\n",
    "\n",
    "# plt.plot(board_accuracies)"
   ]
  },
  {
   "cell_type": "code",
   "execution_count": 11,
   "metadata": {},
   "outputs": [
    {
     "data": {
      "image/png": "[encoded data removed]",
      "text/plain": [
       "<Figure size 640x480 with 1 Axes>"
      ]
     },
     "metadata": {},
     "output_type": "display_data"
    }
   ],
   "source": [
    "cmap = cm.plasma\n",
    "colors = [cmap(0.7), cmap(0.9), cmap(0.2), cmap(0.4)]\n",
    "\n",
    "# 3 : 17M Mamba - stoic-lion-30\n",
    "\n",
    "sns.set_theme('talk')\n",
    "\n",
    "ax = sns.lineplot(board_accuracies, color=colors[3], linewidth=3, label=\"Mamba 17M\")\n",
    "\n",
    "ax.set_title('Board accuracy during the game', fontsize=18)\n",
    "ax.set_xlabel('time')\n",
    "ax.set_ylabel('accuracy')\n",
    "\n",
    "plt.tight_layout()\n",
    "plt.savefig(\"acc_through_game.png\", dpi=600)"
   ]
  },
  {
   "cell_type": "code",
   "execution_count": null,
   "metadata": {},
   "outputs": [],
   "source": []
  },
  {
   "cell_type": "code",
   "execution_count": null,
   "metadata": {},
   "outputs": [],
   "source": []
  },
  {
   "cell_type": "code",
   "execution_count": null,
   "metadata": {},
   "outputs": [],
   "source": []
  },
  {
   "cell_type": "code",
   "execution_count": null,
   "metadata": {},
   "outputs": [],
   "source": []
  },
  {
   "cell_type": "code",
   "execution_count": null,
   "metadata": {},
   "outputs": [],
   "source": []
  },
  {
   "cell_type": "code",
   "execution_count": 63,
   "metadata": {},
   "outputs": [],
   "source": [
    "# board reconstruction"
   ]
  },
  {
   "cell_type": "code",
   "execution_count": 98,
   "metadata": {},
   "outputs": [],
   "source": [
    "import matplotlib.colors as mcolors\n",
    "cmap = mcolors.ListedColormap(['green', 'white', 'black'])"
   ]
  },
  {
   "cell_type": "code",
   "execution_count": 83,
   "metadata": {},
   "outputs": [],
   "source": [
    "moves = []\n",
    "boards = []\n",
    "\n",
    "game = OthelloGame()\n",
    "for _ in range(60):\n",
    "    legal_moves = game.get_valid_moves()\n",
    "    if legal_moves == []:\n",
    "        break\n",
    "\n",
    "    move = random.choice(legal_moves)\n",
    "    game.play_move(move)\n",
    "    moves.append(move)\n",
    "            \n",
    "    board = torch.from_numpy(game.state.copy()).flatten()\n",
    "    if game.next_hand_color == -1:\n",
    "        board[board == 1] = 2\n",
    "        board[board == -1] = 1\n",
    "    else:\n",
    "        board[board == -1] = 2\n",
    "    boards.append(board)\n",
    "\n",
    "x = torch.tensor(moves)+1\n",
    "x = x.to(device).unsqueeze(0)\n",
    "activations = model.forward_up_to(x, layer) # (B=1, lengame, d_model)\n",
    "\n",
    "preds = torch.argmax(probe(activations).view(-1, 64, 3), dim=-1)\n",
    "boards = torch.cat(boards).to(device).view(-1, 64)\n",
    "\n",
    "# preds and boards are (lengame, 64)\n",
    "\n",
    "acc = torch.all(torch.eq(preds, boards), dim=1) # (lengame)"
   ]
  },
  {
   "cell_type": "code",
   "execution_count": 84,
   "metadata": {},
   "outputs": [
    {
     "data": {
      "text/plain": [
       "tensor([[ 0],\n",
       "        [ 1],\n",
       "        [ 2],\n",
       "        [ 3],\n",
       "        [ 6],\n",
       "        [17],\n",
       "        [19],\n",
       "        [23],\n",
       "        [25],\n",
       "        [26],\n",
       "        [37],\n",
       "        [38]], device='cuda:0')"
      ]
     },
     "execution_count": 84,
     "metadata": {},
     "output_type": "execute_result"
    }
   ],
   "source": [
    "acc.nonzero()"
   ]
  },
  {
   "cell_type": "code",
   "execution_count": 104,
   "metadata": {},
   "outputs": [
    {
     "data": {
      "image/png": "[encoded data removed]",
      "text/plain": [
       "<Figure size 640x480 with 1 Axes>"
      ]
     },
     "metadata": {},
     "output_type": "display_data"
    }
   ],
   "source": [
    "plt.imshow(preds[38].cpu().view(8, 8), cmap=cmap)\n",
    "plt.xticks([])\n",
    "plt.yticks([])\n",
    "\n",
    "# save here\n",
    "plt.savefig('board_recon.png', dpi=600)"
   ]
  },
  {
   "cell_type": "code",
   "execution_count": 100,
   "metadata": {},
   "outputs": [
    {
     "data": {
      "text/plain": [
       "<matplotlib.image.AxesImage at 0x7f2a81e564d0>"
      ]
     },
     "execution_count": 100,
     "metadata": {},
     "output_type": "execute_result"
    },
    {
     "data": {
      "image/png": "[encoded data removed]",
      "text/plain": [
       "<Figure size 640x480 with 1 Axes>"
      ]
     },
     "metadata": {},
     "output_type": "display_data"
    }
   ],
   "source": [
    "plt.imshow(boards[38].cpu().view(8, 8), cmap=cmap)"
   ]
  },
  {
   "cell_type": "code",
   "execution_count": null,
   "metadata": {},
   "outputs": [],
   "source": []
  }
 ],
 "metadata": {
  "kernelspec": {
   "display_name": "torch23",
   "language": "python",
   "name": "python3"
  },
  "language_info": {
   "codemirror_mode": {
    "name": "ipython",
    "version": 3
   },
   "file_extension": ".py",
   "mimetype": "text/x-python",
   "name": "python",
   "nbconvert_exporter": "python",
   "pygments_lexer": "ipython3",
   "version": "3.11.5"
  }
 },
 "nbformat": 4,
 "nbformat_minor": 2
}
